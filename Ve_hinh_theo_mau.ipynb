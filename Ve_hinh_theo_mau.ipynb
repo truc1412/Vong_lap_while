{
 "cells": [
  {
   "cell_type": "code",
   "execution_count": 1,
   "id": "2f97dca4",
   "metadata": {},
   "outputs": [],
   "source": [
    "import turtle as t\n",
    "pen=t.Turtle()\n",
    "pen.speed(100)\n",
    "t.bgcolor(\"black\")\n",
    "col=['pink','blue','green','yellow',\n",
    "     'orange','red']\n",
    "n=0\n",
    "m=0\n",
    "index=0\n",
    "value=0\n",
    "while m<36:\n",
    "    pen.seth(-value)\n",
    "    while n<2 :\n",
    "        pen.color(col[index])\n",
    "        pen.circle(80,90)\n",
    "        pen.circle(40,90)\n",
    "        n+=1\n",
    "    if index == 5:\n",
    "        index=0\n",
    "    else:\n",
    "        index+=1\n",
    "    n=0\n",
    "    value+=10\n",
    "    m+=1\n",
    "t.done()"
   ]
  }
 ],
 "metadata": {
  "kernelspec": {
   "display_name": "Python 3 (ipykernel)",
   "language": "python",
   "name": "python3"
  },
  "language_info": {
   "codemirror_mode": {
    "name": "ipython",
    "version": 3
   },
   "file_extension": ".py",
   "mimetype": "text/x-python",
   "name": "python",
   "nbconvert_exporter": "python",
   "pygments_lexer": "ipython3",
   "version": "3.9.13"
  }
 },
 "nbformat": 4,
 "nbformat_minor": 5
}
