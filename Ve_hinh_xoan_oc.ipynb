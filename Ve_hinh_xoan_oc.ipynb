{
 "cells": [
  {
   "cell_type": "code",
   "execution_count": 2,
   "id": "e932a37b",
   "metadata": {},
   "outputs": [
    {
     "name": "stdout",
     "output_type": "stream",
     "text": [
      "Khoảng cách mong muốn 200\n"
     ]
    }
   ],
   "source": [
    "import turtle as t\n",
    "pen=t.Turtle()\n",
    "pen.speed(10)\n",
    "a=int(input(\"Khoảng cách mong muốn \"))\n",
    "count=0\n",
    "d=1\n",
    "while True:\n",
    "    pen.forward(d)\n",
    "    pen.right(27)\n",
    "    d=d+1\n",
    "    distance=t.distance(pen)\n",
    "    if distance>a:\n",
    "        break"
   ]
  },
  {
   "cell_type": "code",
   "execution_count": null,
   "id": "52969586",
   "metadata": {},
   "outputs": [],
   "source": []
  }
 ],
 "metadata": {
  "kernelspec": {
   "display_name": "Python 3 (ipykernel)",
   "language": "python",
   "name": "python3"
  },
  "language_info": {
   "codemirror_mode": {
    "name": "ipython",
    "version": 3
   },
   "file_extension": ".py",
   "mimetype": "text/x-python",
   "name": "python",
   "nbconvert_exporter": "python",
   "pygments_lexer": "ipython3",
   "version": "3.9.13"
  }
 },
 "nbformat": 4,
 "nbformat_minor": 5
}
